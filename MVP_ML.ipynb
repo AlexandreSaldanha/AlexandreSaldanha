{
  "nbformat": 4,
  "nbformat_minor": 0,
  "metadata": {
    "colab": {
      "provenance": [],
      "authorship_tag": "ABX9TyN7FOaXE4Qh9aqpFHIgSuAZ",
      "include_colab_link": true
    },
    "kernelspec": {
      "name": "python3",
      "display_name": "Python 3"
    },
    "language_info": {
      "name": "python"
    }
  },
  "cells": [
    {
      "cell_type": "markdown",
      "metadata": {
        "id": "view-in-github",
        "colab_type": "text"
      },
      "source": [
        "<a href=\"https://colab.research.google.com/github/AlexandreSaldanha/AlexandreSaldanha/blob/main/MVP_ML.ipynb\" target=\"_parent\"><img src=\"https://colab.research.google.com/assets/colab-badge.svg\" alt=\"Open In Colab\"/></a>"
      ]
    },
    {
      "cell_type": "code",
      "execution_count": 47,
      "metadata": {
        "id": "94cRod_IGFEG"
      },
      "outputs": [],
      "source": [
        "# Configuração para não exibir os warnings\n",
        "import warnings\n",
        "warnings.filterwarnings(\"ignore\")\n",
        "\n",
        "# Imports necessários\n",
        "import pandas as pd\n",
        "import numpy as np\n",
        "import matplotlib.pyplot as plt\n",
        "from sklearn.datasets import load_diabetes # para importar o dataset diabetes\n",
        "from sklearn.model_selection import train_test_split # para particionar em bases de treino e teste (holdout)\n",
        "from sklearn.model_selection import KFold # para preparar os folds da validação cruzada\n",
        "from sklearn.model_selection import cross_val_score # para executar a validação cruzada\n",
        "from sklearn.metrics import mean_squared_error # métrica de avaliação MSE\n",
        "from sklearn.linear_model import LinearRegression # algoritmo Regressão Linear\n",
        "from sklearn.linear_model import Ridge # algoritmo Regularização Ridge\n",
        "from sklearn.linear_model import Lasso # algoritmo Regularização Lasso\n",
        "from sklearn.neighbors import KNeighborsRegressor # algoritmo KNN\n",
        "from sklearn.tree import DecisionTreeRegressor # algoritmo Árvore de Regressão\n",
        "from sklearn.svm import SVR # algoritmo SVM"
      ]
    },
    {
      "cell_type": "code",
      "source": [
        "\n",
        "url_dados = 'https://raw.githubusercontent.com/AlexandreSaldanha/AlexandreSaldanha/main/Dataset_Exportacoes'\n",
        "\n",
        "df = pd.read_csv(url_dados,sep=';')\n",
        "df.head()"
      ],
      "metadata": {
        "colab": {
          "base_uri": "https://localhost:8080/",
          "height": 206
        },
        "id": "jmexSRYuGkbZ",
        "outputId": "d0841841-17a3-4eba-bb98-a122a1ebc98d"
      },
      "execution_count": 68,
      "outputs": [
        {
          "output_type": "execute_result",
          "data": {
            "text/plain": [
              "  preço_basico cambio_efetivo Produçao_EUA   quantumexp\n",
              "0          100            100          100          100\n",
              "1  99,95588884    100,4043796        102,4  96,92392706\n",
              "2  98,83840612    101,4655202     103,6288  88,67194695\n",
              "3  97,92677547    104,4258986  104,4578304  110,8491435\n",
              "4  94,23614174    108,6177512  103,4132521  105,3416836"
            ],
            "text/html": [
              "\n",
              "\n",
              "  <div id=\"df-bc41d796-67b7-4c03-a746-45a884c3cf0f\">\n",
              "    <div class=\"colab-df-container\">\n",
              "      <div>\n",
              "<style scoped>\n",
              "    .dataframe tbody tr th:only-of-type {\n",
              "        vertical-align: middle;\n",
              "    }\n",
              "\n",
              "    .dataframe tbody tr th {\n",
              "        vertical-align: top;\n",
              "    }\n",
              "\n",
              "    .dataframe thead th {\n",
              "        text-align: right;\n",
              "    }\n",
              "</style>\n",
              "<table border=\"1\" class=\"dataframe\">\n",
              "  <thead>\n",
              "    <tr style=\"text-align: right;\">\n",
              "      <th></th>\n",
              "      <th>preço_basico</th>\n",
              "      <th>cambio_efetivo</th>\n",
              "      <th>Produçao_EUA</th>\n",
              "      <th>quantumexp</th>\n",
              "    </tr>\n",
              "  </thead>\n",
              "  <tbody>\n",
              "    <tr>\n",
              "      <th>0</th>\n",
              "      <td>100</td>\n",
              "      <td>100</td>\n",
              "      <td>100</td>\n",
              "      <td>100</td>\n",
              "    </tr>\n",
              "    <tr>\n",
              "      <th>1</th>\n",
              "      <td>99,95588884</td>\n",
              "      <td>100,4043796</td>\n",
              "      <td>102,4</td>\n",
              "      <td>96,92392706</td>\n",
              "    </tr>\n",
              "    <tr>\n",
              "      <th>2</th>\n",
              "      <td>98,83840612</td>\n",
              "      <td>101,4655202</td>\n",
              "      <td>103,6288</td>\n",
              "      <td>88,67194695</td>\n",
              "    </tr>\n",
              "    <tr>\n",
              "      <th>3</th>\n",
              "      <td>97,92677547</td>\n",
              "      <td>104,4258986</td>\n",
              "      <td>104,4578304</td>\n",
              "      <td>110,8491435</td>\n",
              "    </tr>\n",
              "    <tr>\n",
              "      <th>4</th>\n",
              "      <td>94,23614174</td>\n",
              "      <td>108,6177512</td>\n",
              "      <td>103,4132521</td>\n",
              "      <td>105,3416836</td>\n",
              "    </tr>\n",
              "  </tbody>\n",
              "</table>\n",
              "</div>\n",
              "      <button class=\"colab-df-convert\" onclick=\"convertToInteractive('df-bc41d796-67b7-4c03-a746-45a884c3cf0f')\"\n",
              "              title=\"Convert this dataframe to an interactive table.\"\n",
              "              style=\"display:none;\">\n",
              "\n",
              "  <svg xmlns=\"http://www.w3.org/2000/svg\" height=\"24px\"viewBox=\"0 0 24 24\"\n",
              "       width=\"24px\">\n",
              "    <path d=\"M0 0h24v24H0V0z\" fill=\"none\"/>\n",
              "    <path d=\"M18.56 5.44l.94 2.06.94-2.06 2.06-.94-2.06-.94-.94-2.06-.94 2.06-2.06.94zm-11 1L8.5 8.5l.94-2.06 2.06-.94-2.06-.94L8.5 2.5l-.94 2.06-2.06.94zm10 10l.94 2.06.94-2.06 2.06-.94-2.06-.94-.94-2.06-.94 2.06-2.06.94z\"/><path d=\"M17.41 7.96l-1.37-1.37c-.4-.4-.92-.59-1.43-.59-.52 0-1.04.2-1.43.59L10.3 9.45l-7.72 7.72c-.78.78-.78 2.05 0 2.83L4 21.41c.39.39.9.59 1.41.59.51 0 1.02-.2 1.41-.59l7.78-7.78 2.81-2.81c.8-.78.8-2.07 0-2.86zM5.41 20L4 18.59l7.72-7.72 1.47 1.35L5.41 20z\"/>\n",
              "  </svg>\n",
              "      </button>\n",
              "\n",
              "\n",
              "\n",
              "    <div id=\"df-100a423c-4c21-430c-8783-c4a9086a9146\">\n",
              "      <button class=\"colab-df-quickchart\" onclick=\"quickchart('df-100a423c-4c21-430c-8783-c4a9086a9146')\"\n",
              "              title=\"Suggest charts.\"\n",
              "              style=\"display:none;\">\n",
              "\n",
              "<svg xmlns=\"http://www.w3.org/2000/svg\" height=\"24px\"viewBox=\"0 0 24 24\"\n",
              "     width=\"24px\">\n",
              "    <g>\n",
              "        <path d=\"M19 3H5c-1.1 0-2 .9-2 2v14c0 1.1.9 2 2 2h14c1.1 0 2-.9 2-2V5c0-1.1-.9-2-2-2zM9 17H7v-7h2v7zm4 0h-2V7h2v10zm4 0h-2v-4h2v4z\"/>\n",
              "    </g>\n",
              "</svg>\n",
              "      </button>\n",
              "    </div>\n",
              "\n",
              "<style>\n",
              "  .colab-df-quickchart {\n",
              "    background-color: #E8F0FE;\n",
              "    border: none;\n",
              "    border-radius: 50%;\n",
              "    cursor: pointer;\n",
              "    display: none;\n",
              "    fill: #1967D2;\n",
              "    height: 32px;\n",
              "    padding: 0 0 0 0;\n",
              "    width: 32px;\n",
              "  }\n",
              "\n",
              "  .colab-df-quickchart:hover {\n",
              "    background-color: #E2EBFA;\n",
              "    box-shadow: 0px 1px 2px rgba(60, 64, 67, 0.3), 0px 1px 3px 1px rgba(60, 64, 67, 0.15);\n",
              "    fill: #174EA6;\n",
              "  }\n",
              "\n",
              "  [theme=dark] .colab-df-quickchart {\n",
              "    background-color: #3B4455;\n",
              "    fill: #D2E3FC;\n",
              "  }\n",
              "\n",
              "  [theme=dark] .colab-df-quickchart:hover {\n",
              "    background-color: #434B5C;\n",
              "    box-shadow: 0px 1px 3px 1px rgba(0, 0, 0, 0.15);\n",
              "    filter: drop-shadow(0px 1px 2px rgba(0, 0, 0, 0.3));\n",
              "    fill: #FFFFFF;\n",
              "  }\n",
              "</style>\n",
              "\n",
              "    <script>\n",
              "      async function quickchart(key) {\n",
              "        const containerElement = document.querySelector('#' + key);\n",
              "        const charts = await google.colab.kernel.invokeFunction(\n",
              "            'suggestCharts', [key], {});\n",
              "      }\n",
              "    </script>\n",
              "\n",
              "      <script>\n",
              "\n",
              "function displayQuickchartButton(domScope) {\n",
              "  let quickchartButtonEl =\n",
              "    domScope.querySelector('#df-100a423c-4c21-430c-8783-c4a9086a9146 button.colab-df-quickchart');\n",
              "  quickchartButtonEl.style.display =\n",
              "    google.colab.kernel.accessAllowed ? 'block' : 'none';\n",
              "}\n",
              "\n",
              "        displayQuickchartButton(document);\n",
              "      </script>\n",
              "      <style>\n",
              "    .colab-df-container {\n",
              "      display:flex;\n",
              "      flex-wrap:wrap;\n",
              "      gap: 12px;\n",
              "    }\n",
              "\n",
              "    .colab-df-convert {\n",
              "      background-color: #E8F0FE;\n",
              "      border: none;\n",
              "      border-radius: 50%;\n",
              "      cursor: pointer;\n",
              "      display: none;\n",
              "      fill: #1967D2;\n",
              "      height: 32px;\n",
              "      padding: 0 0 0 0;\n",
              "      width: 32px;\n",
              "    }\n",
              "\n",
              "    .colab-df-convert:hover {\n",
              "      background-color: #E2EBFA;\n",
              "      box-shadow: 0px 1px 2px rgba(60, 64, 67, 0.3), 0px 1px 3px 1px rgba(60, 64, 67, 0.15);\n",
              "      fill: #174EA6;\n",
              "    }\n",
              "\n",
              "    [theme=dark] .colab-df-convert {\n",
              "      background-color: #3B4455;\n",
              "      fill: #D2E3FC;\n",
              "    }\n",
              "\n",
              "    [theme=dark] .colab-df-convert:hover {\n",
              "      background-color: #434B5C;\n",
              "      box-shadow: 0px 1px 3px 1px rgba(0, 0, 0, 0.15);\n",
              "      filter: drop-shadow(0px 1px 2px rgba(0, 0, 0, 0.3));\n",
              "      fill: #FFFFFF;\n",
              "    }\n",
              "  </style>\n",
              "\n",
              "      <script>\n",
              "        const buttonEl =\n",
              "          document.querySelector('#df-bc41d796-67b7-4c03-a746-45a884c3cf0f button.colab-df-convert');\n",
              "        buttonEl.style.display =\n",
              "          google.colab.kernel.accessAllowed ? 'block' : 'none';\n",
              "\n",
              "        async function convertToInteractive(key) {\n",
              "          const element = document.querySelector('#df-bc41d796-67b7-4c03-a746-45a884c3cf0f');\n",
              "          const dataTable =\n",
              "            await google.colab.kernel.invokeFunction('convertToInteractive',\n",
              "                                                     [key], {});\n",
              "          if (!dataTable) return;\n",
              "\n",
              "          const docLinkHtml = 'Like what you see? Visit the ' +\n",
              "            '<a target=\"_blank\" href=https://colab.research.google.com/notebooks/data_table.ipynb>data table notebook</a>'\n",
              "            + ' to learn more about interactive tables.';\n",
              "          element.innerHTML = '';\n",
              "          dataTable['output_type'] = 'display_data';\n",
              "          await google.colab.output.renderOutput(dataTable, element);\n",
              "          const docLink = document.createElement('div');\n",
              "          docLink.innerHTML = docLinkHtml;\n",
              "          element.appendChild(docLink);\n",
              "        }\n",
              "      </script>\n",
              "    </div>\n",
              "  </div>\n"
            ]
          },
          "metadata": {},
          "execution_count": 68
        }
      ]
    },
    {
      "cell_type": "code",
      "source": [
        "dataset['cambio_efetivo'] = dataset['cambio_efetivo'].apply(lambda x: str(x).replace(\",\",\".\"))\n",
        "dataset['Produçao_EUA'] = dataset['Produçao_EUA'].apply(lambda x: str(x).replace(\",\",\".\"))\n",
        "dataset['quantumexp'] = dataset['quantumexp'].apply(lambda x: str(x).replace(\",\",\".\"))\n",
        "dataset['preço_basico'] = dataset['preço_basico'].apply(lambda x: str(x).replace(\",\",\".\"))"
      ],
      "metadata": {
        "id": "1kq2BzJheWDT"
      },
      "execution_count": 72,
      "outputs": []
    },
    {
      "cell_type": "code",
      "source": [
        "dataset['preço_basico'].astype('float64')\n",
        "dataset['cambio_efetivo'].astype('float64')\n",
        "dataset['Produçao_EUA'].astype('float64')\n",
        "dataset['quantumexp'].astype('float64')"
      ],
      "metadata": {
        "colab": {
          "base_uri": "https://localhost:8080/"
        },
        "id": "jsGziCTSh1pm",
        "outputId": "5d1c846d-c146-4cb1-e5a1-2c1caa045caa"
      },
      "execution_count": 73,
      "outputs": [
        {
          "output_type": "execute_result",
          "data": {
            "text/plain": [
              "0      100.000000\n",
              "1       96.923927\n",
              "2       88.671947\n",
              "3      110.849143\n",
              "4      105.341684\n",
              "          ...    \n",
              "140    211.162277\n",
              "141    190.219193\n",
              "142    209.357156\n",
              "143    197.384417\n",
              "144    189.740284\n",
              "Name: quantumexp, Length: 145, dtype: float64"
            ]
          },
          "metadata": {},
          "execution_count": 73
        }
      ]
    },
    {
      "cell_type": "code",
      "source": [
        "# Preparação dos dados\n",
        "\n",
        "# Separação em bases de treino e teste (holdout)\n",
        "array = dataset.values\n",
        "X = array[:,0:3] # atributos\n",
        "y = array[:,3] # classe (target)\n",
        "\n",
        "X_train, X_test, y_train, y_test = train_test_split(X, y, test_size=0.20, random_state=7) # faz a divisão\n",
        "\n",
        "# Criando os folds para a validação cruzada\n",
        "num_particoes = 10 # número de folds da validação cruzada\n",
        "kfold = KFold(n_splits=num_particoes, shuffle=True, random_state=7) # faz o particionamento em 10 folds"
      ],
      "metadata": {
        "id": "4IaOAcnXINTi"
      },
      "execution_count": 74,
      "outputs": []
    },
    {
      "cell_type": "code",
      "source": [
        "# Modelagem\n",
        "\n",
        "# Definindo uma seed global para esta célula de código\n",
        "np.random.seed(7)\n",
        "\n",
        "# Listas para armazenar os modelos, os resultados e os nomes dos modelos\n",
        "models = []\n",
        "results = []\n",
        "names = []"
      ],
      "metadata": {
        "id": "wnog3VoHoQZW"
      },
      "execution_count": 75,
      "outputs": []
    },
    {
      "cell_type": "code",
      "source": [
        "# Preparando os modelos e adicionando-os em uma lista\n",
        "models.append(('LR', LinearRegression()))\n",
        "models.append(('Ridge', Ridge()))\n",
        "models.append(('Lasso', Lasso()))\n",
        "models.append(('KNN', KNeighborsRegressor()))\n",
        "models.append(('CART', DecisionTreeRegressor()))\n",
        "models.append(('SVM', SVR()))"
      ],
      "metadata": {
        "id": "v5gqxVLid9XP"
      },
      "execution_count": 76,
      "outputs": []
    },
    {
      "cell_type": "code",
      "source": [
        "# Avaliando um modelo por vez\n",
        "for name, model in models:\n",
        "  cv_results = cross_val_score(model, X_train, y_train, cv=kfold, scoring='neg_mean_squared_error')\n",
        "  results.append(cv_results)\n",
        "  names.append(name)\n",
        "  # imprime MSE, desvio padrão do MSE e RMSE dos 10 resultados da validação cruzada\n",
        "  msg = \"%s: MSE %0.2f (%0.2f) - RMSE %0.2f\" % (name, abs(cv_results.mean()), cv_results.std(), np.sqrt(abs(cv_results.mean())))\n",
        "  print(msg)"
      ],
      "metadata": {
        "colab": {
          "base_uri": "https://localhost:8080/"
        },
        "id": "s4toL9bieDDb",
        "outputId": "891b4c29-1c27-4337-e92c-015d03ad71b5"
      },
      "execution_count": 77,
      "outputs": [
        {
          "output_type": "stream",
          "name": "stdout",
          "text": [
            "LR: MSE 599.29 (190.17) - RMSE 24.48\n",
            "Ridge: MSE 599.29 (190.17) - RMSE 24.48\n",
            "Lasso: MSE 599.31 (189.77) - RMSE 24.48\n",
            "KNN: MSE nan (nan) - RMSE nan\n",
            "CART: MSE 592.19 (242.04) - RMSE 24.33\n",
            "SVM: MSE 954.94 (463.61) - RMSE 30.90\n"
          ]
        }
      ]
    },
    {
      "cell_type": "code",
      "source": [
        "# Boxplot de comparação dos modelos\n",
        "fig = plt.figure()\n",
        "fig.suptitle('Comparação do MSE dos Modelos')\n",
        "ax = fig.add_subplot(111)\n",
        "plt.boxplot(results)\n",
        "ax.set_xticklabels(names)\n",
        "plt.show()"
      ],
      "metadata": {
        "colab": {
          "base_uri": "https://localhost:8080/",
          "height": 478
        },
        "id": "JWSWztXijxIA",
        "outputId": "80009ef2-1bf1-4492-8cff-111ac4845c72"
      },
      "execution_count": 78,
      "outputs": [
        {
          "output_type": "display_data",
          "data": {
            "text/plain": [
              "<Figure size 640x480 with 1 Axes>"
            ],
            "image/png": "[encoded data removed]"
          },
          "metadata": {}
        }
      ]
    },
    {
      "cell_type": "code",
      "source": [
        "# Criando um modelo com todo o conjunto de treino\n",
        "model = LinearRegression()\n",
        "model.fit(X_train, y_train)\n",
        "\n",
        "# Fazendo as predições com o conjunto de teste\n",
        "predictions = model.predict(X_test)\n",
        "\n",
        "# Estimando o MSE e o RMSE no conjunto de teste\n",
        "mse = mean_squared_error(y_test, predictions)\n",
        "print(\"MSE %0.2f\" % mse)\n",
        "print(\"RMSE %0.2f\" % np.sqrt(abs(mse)))"
      ],
      "metadata": {
        "colab": {
          "base_uri": "https://localhost:8080/"
        },
        "id": "W1uCyTollXDV",
        "outputId": "52a719d6-7bdf-4ad3-99a3-d7f91d8e0dfa"
      },
      "execution_count": 79,
      "outputs": [
        {
          "output_type": "stream",
          "name": "stdout",
          "text": [
            "MSE 358.88\n",
            "RMSE 18.94\n"
          ]
        }
      ]
    }
  ]
}