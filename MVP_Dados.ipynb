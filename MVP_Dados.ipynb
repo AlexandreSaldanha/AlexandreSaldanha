{
  "nbformat": 4,
  "nbformat_minor": 0,
  "metadata": {
    "colab": {
      "provenance": [],
      "name": "MVP_Dados",
      "authorship_tag": "ABX9TyN6wGhQ2SUFqjphq2QGdMeK",
      "include_colab_link": true
    },
    "kernelspec": {
      "name": "python3",
      "display_name": "Python 3"
    },
    "language_info": {
      "name": "python"
    }
  },
  "cells": [
    {
      "cell_type": "markdown",
      "metadata": {
        "id": "view-in-github",
        "colab_type": "text"
      },
      "source": [
        "<a href=\"https://colab.research.google.com/github/AlexandreSaldanha/AlexandreSaldanha/blob/main/MVP_Dados.ipynb\" target=\"_parent\"><img src=\"https://colab.research.google.com/assets/colab-badge.svg\" alt=\"Open In Colab\"/></a>"
      ]
    },
    {
      "cell_type": "code",
      "source": [
        "# Configuração para não exibir os warnings\n",
        "import warnings\n",
        "warnings.filterwarnings(\"ignore\")\n",
        "\n",
        "# Importação de pacotes\n",
        "import pandas as pd\n",
        "import numpy as np\n",
        "import matplotlib.pyplot as plt\n",
        "import seaborn as sns\n",
        "from matplotlib import cm"
      ],
      "metadata": {
        "id": "VTNFNdz9GeHR"
      },
      "execution_count": null,
      "outputs": []
    },
    {
      "cell_type": "code",
      "source": [
        "# Informa a URL de importação do dataset\n",
        "url = \"https://raw.githubusercontent.com/AlexandreSaldanha/AlexandreSaldanha/main/Expectativa_Vida\"\n",
        "\n",
        "# Lê o arquivo\n",
        "dataset = pd.read_csv(url, delimiter=',')"
      ],
      "metadata": {
        "id": "nOVdhVVyHEHQ"
      },
      "execution_count": null,
      "outputs": []
    },
    {
      "cell_type": "code",
      "source": [
        "# Mostra as dimensões do dataset\n",
        "dataset.shape"
      ],
      "metadata": {
        "id": "ACAmVnivHPY4"
      },
      "execution_count": null,
      "outputs": []
    },
    {
      "cell_type": "code",
      "source": [
        "# Mostra as informações do dataset\n",
        "dataset.info()"
      ],
      "metadata": {
        "id": "npBry9ClHSgn"
      },
      "execution_count": null,
      "outputs": []
    },
    {
      "cell_type": "code",
      "source": [
        "# Mostra as 10 primeiras linhas do dataset\n",
        "dataset.head(10)"
      ],
      "metadata": {
        "id": "_i2GCvMwHcYI"
      },
      "execution_count": null,
      "outputs": []
    },
    {
      "cell_type": "code",
      "source": [
        "# Mostra as 10 últimas linhas do dataset\n",
        "dataset.tail(10)"
      ],
      "metadata": {
        "id": "kXgKumtLHmXg"
      },
      "execution_count": null,
      "outputs": []
    },
    {
      "cell_type": "code",
      "source": [
        "dataset.describe()"
      ],
      "metadata": {
        "id": "hEaI1A8hHpz_"
      },
      "execution_count": null,
      "outputs": []
    },
    {
      "cell_type": "code",
      "source": [
        "# Correlação de Pearson\n",
        "dataset.corr(method = 'pearson')"
      ],
      "metadata": {
        "id": "9vy16Pl5JRi_"
      },
      "execution_count": null,
      "outputs": []
    },
    {
      "cell_type": "code",
      "source": [
        "# Histograma\n",
        "dataset.hist(figsize = (20,15))\n",
        "plt.show()"
      ],
      "metadata": {
        "id": "2XWdEtHSJh_P"
      },
      "execution_count": null,
      "outputs": []
    },
    {
      "cell_type": "code",
      "source": [
        "# Density Plot\n",
        "dataset.plot(kind = 'density', subplots = True, layout = (5,4), sharex = False, figsize = (20,15))\n",
        "plt.show()"
      ],
      "metadata": {
        "id": "MCbuxVhIKA9v"
      },
      "execution_count": null,
      "outputs": []
    },
    {
      "cell_type": "code",
      "source": [
        "# Boxplot\n",
        "dataset.plot(kind = 'box', subplots = True, layout = (5,4), sharex = False, sharey = False, figsize = (15,10))\n",
        "plt.show()"
      ],
      "metadata": {
        "id": "uA71SXLuKp7m"
      },
      "execution_count": null,
      "outputs": []
    },
    {
      "cell_type": "code",
      "source": [
        "# Matriz de Correlação com Seaborn\n",
        "plt.figure(figsize = (15,11))\n",
        "sns.heatmap(dataset.corr(), annot=True, cmap='RdBu', vmin=-1, vmax=1);"
      ],
      "metadata": {
        "id": "pnjGtRYpK_wm"
      },
      "execution_count": null,
      "outputs": []
    },
    {
      "cell_type": "code",
      "source": [
        "# Scatter Plot com Seaborn - Variação 1\n",
        "sns.pairplot(dataset)"
      ],
      "metadata": {
        "id": "m9Cq423aMqvf"
      },
      "execution_count": null,
      "outputs": []
    }
  ]
}